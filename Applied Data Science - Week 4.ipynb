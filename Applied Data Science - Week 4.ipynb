{
 "cells": [
  {
   "cell_type": "markdown",
   "metadata": {},
   "source": [
    "## INTRODUTION TO BUSINESS PROBLEM:\n",
    "Singaporeans' love affair with bubble has been well documented pre-pandemic as well as during the pandemic. Even with restrictions on dining-in hit drink stalls at hawker centers, foodcourts and restraurants hard, but bubble tea joints continue to enjoy roaring success evidenced by unedning ques of customers and food delivery riders at bubble tea shops. As reported in The Straits Times, Nayuki, a chinese bubble tea chain raised more than US$650 million in an initial public offering (IPO). This project will explore the best location with high human traffic to set-up a bubble tea shop. The locations with high human traffic is usually located around Mass Rapid Transit (MRT) stations which us one of the 2 main modes of transportations in Singapore, with the other one being the bus. As such, we will explore the best location which would be one with the fewest number of bubble tea joints withint the vicinity to set-up a bubble tea shop within walking distance (250m radius) from a MRT station. \n",
    "\n",
    "\n",
    "\n",
    "\n"
   ]
  },
  {
   "cell_type": "markdown",
   "metadata": {},
   "source": []
  },
  {
   "cell_type": "markdown",
   "metadata": {},
   "source": [
    "# Data:\n",
    "For this project, I'll leverage Singapore MRTs' coordinate dataset from yxlee https://www.kaggle.com/yxlee245/singapore-train-station-coordinates. As this dataset contains both MRT and LRT, we'll need to remove remove LRT from the dataset before using it \n",
    "\n",
    "1. Singapore MRT coordinates dataset from a csv file\n",
    "\n",
    "\n",
    "I'll also be using the FourSquare API to obtain all the bubble tea joints within 250m radius from the MRT stations located in the Singapore MRTs' coordinates dataset. Features of interest will be\n",
    "1. Venue\n",
    "2. Venue Latitude\n",
    "3. Venue Longitude\n",
    "4. Venue Category Data\n",
    "\n"
   ]
  },
  {
   "cell_type": "code",
   "execution_count": null,
   "metadata": {},
   "outputs": [],
   "source": []
  }
 ],
 "metadata": {
  "kernelspec": {
   "display_name": "Python 3",
   "language": "python",
   "name": "python3"
  },
  "language_info": {
   "codemirror_mode": {
    "name": "ipython",
    "version": 3
   },
   "file_extension": ".py",
   "mimetype": "text/x-python",
   "name": "python",
   "nbconvert_exporter": "python",
   "pygments_lexer": "ipython3",
   "version": "3.8.5"
  }
 },
 "nbformat": 4,
 "nbformat_minor": 4
}
