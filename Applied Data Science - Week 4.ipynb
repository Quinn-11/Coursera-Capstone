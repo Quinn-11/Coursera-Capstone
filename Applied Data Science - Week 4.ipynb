{
 "cells": [
  {
   "cell_type": "markdown",
   "metadata": {},
   "source": [
    "# Introduction:\n",
    "## Singaporeans' love affair with bubble will has been well documented with snaking queues forming even during the pandemic and seems the be one of the best thriving F&B business in Singapore. As such, it makes sense to invest in opening a bubble tea shop in Singapore.\n",
    "\n",
    "\n"
   ]
  },
  {
   "cell_type": "markdown",
   "metadata": {},
   "source": [
    "# Problem Statement: \n",
    "## Locate MRT location for a new bubble tea shop with the fewest number of bubble tea shops."
   ]
  },
  {
   "cell_type": "markdown",
   "metadata": {},
   "source": [
    "# Data:\n",
    "\n",
    "## Singapore MRT coordinates dataset and Foursquare data on bubble tea shops locations"
   ]
  },
  {
   "cell_type": "code",
   "execution_count": null,
   "metadata": {},
   "outputs": [],
   "source": []
  }
 ],
 "metadata": {
  "kernelspec": {
   "display_name": "Python 3",
   "language": "python",
   "name": "python3"
  },
  "language_info": {
   "codemirror_mode": {
    "name": "ipython",
    "version": 3
   },
   "file_extension": ".py",
   "mimetype": "text/x-python",
   "name": "python",
   "nbconvert_exporter": "python",
   "pygments_lexer": "ipython3",
   "version": "3.8.5"
  }
 },
 "nbformat": 4,
 "nbformat_minor": 4
}
